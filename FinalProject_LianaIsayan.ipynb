{
 "cells": [
  {
   "cell_type": "markdown",
   "metadata": {},
   "source": [
    "#### Your problem is to determine what is the type (suit) (heart, diamond, spade or club) of the given playing card. You should use the 4 images provided in the folder. "
   ]
  },
  {
   "cell_type": "code",
   "execution_count": 19,
   "metadata": {},
   "outputs": [],
   "source": [
    "import cv2 as cv\n",
    "import numpy as np"
   ]
  },
  {
   "cell_type": "code",
   "execution_count": 20,
   "metadata": {},
   "outputs": [],
   "source": [
    "# reading\n",
    "img0 = cv.imread('D:/ASDS/Python/king_od_spades.png') # this was the defective pic\n",
    "img1 = cv.imread('D:/ASDS/Python/ace_of_clubs.png')\n",
    "img2 = cv.imread('D:/ASDS/Python/king_of_hearts.jpg') \n",
    "img3 = cv.imread('D:/ASDS/Python/king_of_spades.jpg') \n",
    "img4 = cv.imread('D:/ASDS/Python/six_of_diamonds.png') "
   ]
  },
  {
   "cell_type": "code",
   "execution_count": 21,
   "metadata": {},
   "outputs": [],
   "source": [
    "hlist = []\n",
    "wlist = []\n",
    "for i in [img1, img2, img3, img4]:\n",
    "\n",
    "    h, w = i.shape[0], i.shape[1]\n",
    "    hlist.append(h)\n",
    "    wlist.append(w)\n",
    "    h, w = min(wlist), min(hlist)    "
   ]
  },
  {
   "cell_type": "code",
   "execution_count": 22,
   "metadata": {},
   "outputs": [
    {
     "data": {
      "text/plain": [
       "-1"
      ]
     },
     "execution_count": 22,
     "metadata": {},
     "output_type": "execute_result"
    }
   ],
   "source": [
    "# resizing pics to be in the same size\n",
    "mylist = []\n",
    "for i in [img0, img1, img2, img3, img4]:\n",
    "    resized = cv.resize(i, (h, w), interpolation = cv.INTER_CUBIC) \n",
    "#    cv.imshow(f'Resized {i}', resized)\n",
    "    mylist.append(resized)\n",
    "cv.waitKey(0)"
   ]
  },
  {
   "cell_type": "code",
   "execution_count": 23,
   "metadata": {},
   "outputs": [
    {
     "data": {
      "text/plain": [
       "-1"
      ]
     },
     "execution_count": 23,
     "metadata": {},
     "output_type": "execute_result"
    }
   ],
   "source": [
    "# Cropping the symbol\n",
    "cropedlist = []\n",
    "for i in range(5):\n",
    "    cropped = mylist[i][30:50, 0:20] \n",
    "#    cv.imshow(f'Cropped {i}', cropped)\n",
    "    cropedlist.append(cropped)\n",
    "cv.waitKey(0)"
   ]
  },
  {
   "cell_type": "code",
   "execution_count": 24,
   "metadata": {},
   "outputs": [
    {
     "data": {
      "text/plain": [
       "-1"
      ]
     },
     "execution_count": 24,
     "metadata": {},
     "output_type": "execute_result"
    }
   ],
   "source": [
    "# Graying and thresholding the symbol\n",
    "threshlist = []\n",
    "for i in range(5):\n",
    "    gray = cv.cvtColor(cropedlist[i], cv.COLOR_BGR2GRAY)\n",
    "    thresh = mask = cv.inRange(gray,125, 255, cv.THRESH_BINARY)\n",
    "#    cv.imshow(f'Thresh {i}', thresh)\n",
    "    threshlist.append(gray)\n",
    "cv.waitKey(0)"
   ]
  },
  {
   "cell_type": "code",
   "execution_count": 25,
   "metadata": {},
   "outputs": [
    {
     "name": "stdout",
     "output_type": "stream",
     "text": [
      "The 0 -th card is from spades\n",
      "The 1 -th card is from clubs\n",
      "The 2 -th card is from hearts\n",
      "The 3 -th card is from spades\n",
      "The 4 -th card is from diamonds\n"
     ]
    }
   ],
   "source": [
    "for i in range(5):\n",
    "    white_pix = np.count_nonzero(threshlist[i] > 230)\n",
    "    tot_pix = threshlist[i].size\n",
    "    ratio = white_pix/tot_pix\n",
    "    if round(ratio,2) == 0.82:\n",
    "        print(f\"The {i} -th card is from diamonds\")\n",
    "    elif round(ratio,2) == 0.66:\n",
    "        print(f\"The {i} -th card is from spades\")\n",
    "    elif round(ratio,2) == 0.80:\n",
    "        print(f\"The {i} -th card is from clubs\")\n",
    "    else:\n",
    "        print(f\"The {i} -th card is from hearts\")        "
   ]
  },
  {
   "cell_type": "code",
   "execution_count": 32,
   "metadata": {},
   "outputs": [],
   "source": [
    "# The final function will look like this\n",
    "class CardDetection:\n",
    "    \n",
    "    #Constructor\n",
    "    def __init__(self, img): #receives instance 'self' as argument\n",
    "        self.img = img\n",
    "               \n",
    "    def detecting(self):\n",
    "        resized = cv.resize(self.img, (h, w), interpolation = cv.INTER_CUBIC)\n",
    "        cropped = resized[30:50, 0:20]\n",
    "        gray = cv.cvtColor(cropped, cv.COLOR_BGR2GRAY)\n",
    "        thresh = mask = cv.inRange(gray,125, 255, cv.THRESH_BINARY)\n",
    "        white_pix = np.count_nonzero(thresh > 230)\n",
    "        tot_pix = thresh.size\n",
    "        ratio = white_pix/tot_pix\n",
    "        if round(ratio,2) == 0.84:\n",
    "            print(f\"The card is from diamonds\")\n",
    "        elif round(ratio,2) == 0.81:\n",
    "            print(f\"The card is from spades\")\n",
    "        elif round(ratio,2) == 0.79:\n",
    "            print(f\"The card is from clubs\")\n",
    "        else:\n",
    "            print(f\"The card is from hearts\")"
   ]
  },
  {
   "cell_type": "code",
   "execution_count": 33,
   "metadata": {},
   "outputs": [
    {
     "name": "stdout",
     "output_type": "stream",
     "text": [
      "The card is from clubs\n"
     ]
    }
   ],
   "source": [
    "test = CardDetection(img3)\n",
    "test.detecting()"
   ]
  },
  {
   "cell_type": "markdown",
   "metadata": {},
   "source": [
    "Appendix"
   ]
  },
  {
   "cell_type": "code",
   "execution_count": 27,
   "metadata": {},
   "outputs": [
    {
     "data": {
      "text/plain": [
       "-1"
      ]
     },
     "execution_count": 27,
     "metadata": {},
     "output_type": "execute_result"
    }
   ],
   "source": [
    "# Btw, the heart King is problematic and needs something like this\n",
    "blurred = cv.blur(img2, (3,3))\n",
    "canny = cv.Canny(blurred, 50, 200)\n",
    "\n",
    "pts = np.argwhere(canny>0)\n",
    "y1,x1 = pts.min(axis=0)\n",
    "y2,x2 = pts.max(axis=0)\n",
    "\n",
    "cropped = canny[y1:y2, x1:x2]\n",
    "cv.imwrite(\"cropped.png\", cropped)\n",
    "cv.imshow('cropped', cropped) \n",
    "cv.waitKey(0)"
   ]
  },
  {
   "cell_type": "code",
   "execution_count": 28,
   "metadata": {},
   "outputs": [
    {
     "data": {
      "text/plain": [
       "-1"
      ]
     },
     "execution_count": 28,
     "metadata": {},
     "output_type": "execute_result"
    }
   ],
   "source": [
    "# or by this\n",
    "\"\"\"blurred = cv.blur(img2, (3,3))\n",
    "canny = cv.Canny(blurred, 50, 200)\n",
    "mylist = []\n",
    "mylist2 = []\n",
    "for rownum, row in enumerate(canny>0):\n",
    "    for colnum, value in enumerate(row):\n",
    "        if value == True:\n",
    "            mylist.append(rownum)\n",
    "            mylist2.append(colnum)        \n",
    "            \n",
    "y1 = min(mylist)\n",
    "y2 = max(mylist)\n",
    "x1 = min(mylist2)\n",
    "x2 = max(mylist2)\n",
    "\n",
    "cropped = canny[y1:y2, x1:x2]\n",
    "cv.imwrite(\"cropped.png\", cropped)\n",
    "cv.imshow('cropped', cropped) \n",
    "cv.waitKey(0)\"\"\""
   ]
  }
 ],
 "metadata": {
  "kernelspec": {
   "display_name": "Python 3",
   "language": "python",
   "name": "python3"
  },
  "language_info": {
   "codemirror_mode": {
    "name": "ipython",
    "version": 3
   },
   "file_extension": ".py",
   "mimetype": "text/x-python",
   "name": "python",
   "nbconvert_exporter": "python",
   "pygments_lexer": "ipython3",
   "version": "3.8.3"
  }
 },
 "nbformat": 4,
 "nbformat_minor": 4
}
