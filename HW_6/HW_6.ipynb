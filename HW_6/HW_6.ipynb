{
 "cells": [
  {
   "cell_type": "markdown",
   "metadata": {},
   "source": [
    "# Problem 1"
   ]
  },
  {
   "cell_type": "code",
   "execution_count": 121,
   "metadata": {},
   "outputs": [],
   "source": [
    "def max(*args):\n",
    "       if len(args) != 0: \n",
    "        for arg in args:\n",
    "            myMax = args[0]\n",
    "            if myMax < arg:\n",
    "                myMax = arg\n",
    "        return myMax\n",
    "       else:\n",
    "        print(\"no numbers given\")"
   ]
  },
  {
   "cell_type": "code",
   "execution_count": 123,
   "metadata": {},
   "outputs": [
    {
     "name": "stdout",
     "output_type": "stream",
     "text": [
      "not goven\n"
     ]
    }
   ],
   "source": [
    "max()"
   ]
  },
  {
   "cell_type": "markdown",
   "metadata": {},
   "source": [
    "# Problem 2"
   ]
  },
  {
   "cell_type": "code",
   "execution_count": 132,
   "metadata": {},
   "outputs": [
    {
     "name": "stdout",
     "output_type": "stream",
     "text": [
      "<u>Hi, it's me!</u>\n"
     ]
    }
   ],
   "source": [
    "def firstdec(fn):\n",
    "    def wrapped(*args, **kwargs):       \n",
    "        return fn(*args, **kwargs) + \", it's me!\"\n",
    "    return wrapped\n",
    "\n",
    "def makeunderlined(fn):\n",
    "    def wrapped():\n",
    "        return \"<u>\" + fn() + \"</u>\"\n",
    "    return wrapped\n",
    "\n",
    "@makeunderlined\n",
    "@firstdec\n",
    "\n",
    "def hello():\n",
    "    return \"Hi\"\n",
    "\n",
    "print (hello())"
   ]
  },
  {
   "cell_type": "markdown",
   "metadata": {},
   "source": [
    "# Problem 3"
   ]
  },
  {
   "cell_type": "code",
   "execution_count": 90,
   "metadata": {},
   "outputs": [],
   "source": [
    "def my_range(n):\n",
    "    num = list(range(0,n+1))\n",
    "    for i in num:\n",
    "        yield (i)    \n",
    "    print(\"there are no values left\")"
   ]
  },
  {
   "cell_type": "code",
   "execution_count": 91,
   "metadata": {},
   "outputs": [],
   "source": [
    "myrange = my_range(5)"
   ]
  },
  {
   "cell_type": "code",
   "execution_count": 92,
   "metadata": {},
   "outputs": [
    {
     "data": {
      "text/plain": [
       "0"
      ]
     },
     "execution_count": 92,
     "metadata": {},
     "output_type": "execute_result"
    }
   ],
   "source": [
    "next(myrange)"
   ]
  },
  {
   "cell_type": "code",
   "execution_count": null,
   "metadata": {},
   "outputs": [],
   "source": []
  }
 ],
 "metadata": {
  "kernelspec": {
   "display_name": "Python 3",
   "language": "python",
   "name": "python3"
  },
  "language_info": {
   "codemirror_mode": {
    "name": "ipython",
    "version": 3
   },
   "file_extension": ".py",
   "mimetype": "text/x-python",
   "name": "python",
   "nbconvert_exporter": "python",
   "pygments_lexer": "ipython3",
   "version": "3.8.3"
  }
 },
 "nbformat": 4,
 "nbformat_minor": 4
}
