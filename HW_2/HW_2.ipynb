{
 "cells": [
  {
   "cell_type": "markdown",
   "metadata": {},
   "source": [
    "# Problem 1"
   ]
  },
  {
   "cell_type": "code",
   "execution_count": 1,
   "metadata": {},
   "outputs": [
    {
     "name": "stdout",
     "output_type": "stream",
     "text": [
      "Current date:  2021-09-19 00:59:56.133003\n",
      "Given years:  2\n",
      "Given days:  3\n",
      "Final date:  2023-09-22 00:59:56.133003\n"
     ]
    }
   ],
   "source": [
    "run problem1.py --num_y=2 --num_d=3"
   ]
  },
  {
   "cell_type": "code",
   "execution_count": 2,
   "metadata": {},
   "outputs": [
    {
     "name": "stdout",
     "output_type": "stream",
     "text": [
      "Current date:  2021-09-19 00:59:56.275067\n",
      "Given years:  5\n",
      "Given days:  None\n",
      "Final date:  2026-09-18 00:59:56.278060\n"
     ]
    }
   ],
   "source": [
    "run problem1.py --num_y=5"
   ]
  },
  {
   "cell_type": "markdown",
   "metadata": {},
   "source": [
    "# Problem 2"
   ]
  },
  {
   "cell_type": "code",
   "execution_count": 3,
   "metadata": {},
   "outputs": [
    {
     "name": "stdout",
     "output_type": "stream",
     "text": [
      "The old string:  abcdefghi\n",
      "Middle 3 characters:  def\n",
      "The new string:  abcDEFghi\n"
     ]
    }
   ],
   "source": [
    "run problem2.py \"abcdefghi\""
   ]
  },
  {
   "cell_type": "markdown",
   "metadata": {},
   "source": [
    "# Problem 3"
   ]
  },
  {
   "cell_type": "code",
   "execution_count": 6,
   "metadata": {},
   "outputs": [
    {
     "name": "stdout",
     "output_type": "stream",
     "text": [
      "The given text:  What a good day\n",
      "First word:  day\n",
      "Second word:  week\n",
      "Output string: What a good week\n"
     ]
    }
   ],
   "source": [
    "run problem3.py \"What a good day\" \"day\" \"week\""
   ]
  }
 ],
 "metadata": {
  "kernelspec": {
   "display_name": "Python 3",
   "language": "python",
   "name": "python3"
  },
  "language_info": {
   "codemirror_mode": {
    "name": "ipython",
    "version": 3
   },
   "file_extension": ".py",
   "mimetype": "text/x-python",
   "name": "python",
   "nbconvert_exporter": "python",
   "pygments_lexer": "ipython3",
   "version": "3.8.3"
  }
 },
 "nbformat": 4,
 "nbformat_minor": 4
}
