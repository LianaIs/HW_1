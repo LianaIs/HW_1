{
 "cells": [
  {
   "cell_type": "markdown",
   "metadata": {},
   "source": [
    "### Problem 1.\n",
    "Open the image pic1.jpg and display it with the name pic1. Convert the image to grayscale and\n",
    "display in a separate window to compare with the original image."
   ]
  },
  {
   "cell_type": "code",
   "execution_count": 1,
   "metadata": {},
   "outputs": [],
   "source": [
    "import cv2 as cv\n",
    "import numpy as np"
   ]
  },
  {
   "cell_type": "code",
   "execution_count": 4,
   "metadata": {},
   "outputs": [
    {
     "data": {
      "text/plain": [
       "-1"
      ]
     },
     "execution_count": 4,
     "metadata": {},
     "output_type": "execute_result"
    }
   ],
   "source": [
    "img = cv.imread('D:/ASDS/Python/Sem2 10/pic1.jpg') \n",
    "cv.imshow('pic1', img)\n",
    "\n",
    "gray = cv.cvtColor(img, cv.COLOR_BGR2GRAY)\n",
    "cv.imshow('pic1 gray version', gray)\n",
    "\n",
    "cv.waitKey(0)"
   ]
  },
  {
   "cell_type": "markdown",
   "metadata": {},
   "source": [
    "### Problem 2.\n",
    "\n",
    "Open the image pic1.jpg and display it with the name pic1. Blur the image using Gaussian blur\n",
    "using 2 different windows sizes: (3, 3) and (11, 11) and display both versions in separate\n",
    "windows to compare with the original image."
   ]
  },
  {
   "cell_type": "code",
   "execution_count": 6,
   "metadata": {},
   "outputs": [
    {
     "data": {
      "text/plain": [
       "-1"
      ]
     },
     "execution_count": 6,
     "metadata": {},
     "output_type": "execute_result"
    }
   ],
   "source": [
    "img = cv.imread('D:/ASDS/Python/Sem2 10/pic1.jpg') \n",
    "cv.imshow('pic1', img)\n",
    "\n",
    "blur1 = cv.GaussianBlur(gray, (3, 3), cv.BORDER_DEFAULT)\n",
    "cv.imshow('blure 1', blur1)\n",
    "# maybe we should do this on original image? I don't know:)\n",
    "\n",
    "blur2 = cv.GaussianBlur(gray, (11, 11), cv.BORDER_DEFAULT)\n",
    "cv.imshow('blure 2', blur2)\n",
    "\n",
    "cv.waitKey(0)"
   ]
  },
  {
   "cell_type": "markdown",
   "metadata": {},
   "source": [
    "### Problem 3.\n",
    "\n",
    "Open the image pic2.jpg and display it with the name pic2. Try to detect the image edges using\n",
    "Canny edge detector and display the result in a separate window. Then run the edge detector\n",
    "on a blurred version of an image (use a window size of your choice) and display the result in a\n",
    "different window to compare."
   ]
  },
  {
   "cell_type": "code",
   "execution_count": 13,
   "metadata": {},
   "outputs": [
    {
     "data": {
      "text/plain": [
       "-1"
      ]
     },
     "execution_count": 13,
     "metadata": {},
     "output_type": "execute_result"
    }
   ],
   "source": [
    "img = cv.imread('D:/ASDS/Python/Sem2 10/pic2.jpg') \n",
    "cv.imshow('pic2', img)\n",
    "\n",
    "# gray = cv.cvtColor(img, cv.COLOR_BGR2GRAY)\n",
    "canny = cv.Canny(img, 125, 175)\n",
    "contours, hierarchies = cv.findContours(canny, cv.RETR_LIST, cv.CHAIN_APPROX_SIMPLE)\n",
    "blank = np.zeros(img.shape, dtype = 'uint8')\n",
    "cv.drawContours(blank, contours, -1, (0, 0, 255), 1)\n",
    "cv.imshow('contours drawn (canny)', blank)\n",
    "\n",
    "\n",
    "gray = cv.cvtColor(img, cv.COLOR_BGR2GRAY)\n",
    "blur2 = cv.GaussianBlur(gray, (11, 11), cv.BORDER_DEFAULT)\n",
    "contours, hierarchies = cv.findContours(blur2, cv.RETR_LIST, cv.CHAIN_APPROX_SIMPLE)\n",
    "blank = np.zeros(img.shape, dtype = 'uint8')\n",
    "cv.drawContours(blank, contours, -1, (0, 0, 255), 1) #image to draw over, contours list, contour index (-1 - all contours), color, thickness\n",
    "cv.imshow('contours drawn (blur)', blank)\n",
    "\n",
    "cv.waitKey(0)"
   ]
  },
  {
   "cell_type": "markdown",
   "metadata": {},
   "source": [
    "### Problem 4.\n",
    "\n",
    "Open the image pic2.jpg and display it with the name pic2. Resize the image to have 2 times\n",
    "bigger width and the same height as the original image, use INTER_AREA interpolation. Then\n",
    "resize the original image to have 2 times smaller height and the same width as the original\n",
    "image, use INTER_CUBIC interpolation. Display both versions in separate windows."
   ]
  },
  {
   "cell_type": "code",
   "execution_count": 14,
   "metadata": {},
   "outputs": [
    {
     "data": {
      "text/plain": [
       "-1"
      ]
     },
     "execution_count": 14,
     "metadata": {},
     "output_type": "execute_result"
    }
   ],
   "source": [
    "img = cv.imread('D:/ASDS/Python/Sem2 10/pic2.jpg') \n",
    "cv.imshow('pic2', img)\n",
    "\n",
    "scale = 2 \n",
    "width = int(img.shape[1] * scale)\n",
    "height = int(img.shape[0])\n",
    "dim = (width, height)\n",
    "resized1 = cv.resize(img, dim, interpolation = cv.INTER_AREA) \n",
    "cv.imshow('Resized1', resized1) \n",
    "\n",
    "scale = 2 \n",
    "width = int(img.shape[1])\n",
    "height = int(img.shape[0] / scale)\n",
    "dim = (width, height)\n",
    "resized2 = cv.resize(img, dim, interpolation = cv.INTER_CUBIC) \n",
    "cv.imshow('Resized2', resized2) \n",
    "\n",
    "cv.waitKey(0)"
   ]
  },
  {
   "cell_type": "markdown",
   "metadata": {},
   "source": [
    "### Problem 5.\n",
    "\n",
    "Open the image pic2.jpg and display it with the name pic2. Translate the image to go down by\n",
    "200 pixels and to the right by 50 pixels. Then rotate the image around its center by 50 degrees.\n",
    "Then flip the resulting image both vertically and horizontally. Display the result after each action\n",
    "in a separate window."
   ]
  },
  {
   "cell_type": "code",
   "execution_count": null,
   "metadata": {},
   "outputs": [],
   "source": [
    "img = cv.imread('D:/ASDS/Python/Sem2 10/pic2.jpg') \n",
    "cv.imshow('pic2', img)\n",
    "\n",
    "def translate(img, x, y): #image, # of pixels you want to shift in x and y axes\n",
    "    \n",
    "     transMat = np.float32([[1, 0, x], [0, 1, y]]) #translation matrix\n",
    "     dimentions = (img.shape[1], img.shape[0]) #(width, height)\n",
    "    \n",
    "     return cv.warpAffine(img, transMat, dimentions)\n",
    "#-x --> left\n",
    "#-y --> up\n",
    "#x --> right\n",
    "#y --> down\n",
    "translated = translate(img, 50, 200) \n",
    "cv.imshow('Translated', translated)\n",
    "\n",
    "def rotate(img, angle, rotPoint = None): #assume that None - rotating around the center\n",
    "    (height, width) = (img.shape[0], img.shape[1])\n",
    "    if rotPoint == None:\n",
    "        rotPoint = (width//2, height//2)\n",
    "    rotMat = cv.getRotationMatrix2D(rotPoint, angle, 1.0) # 1.0 - scale\n",
    "    dimentions = (width, height)\n",
    "    return cv.warpAffine(img, rotMat, dimentions)\n",
    "rotated = rotate(img, 50)\n",
    "cv.imshow('Rotated', rotated)\n",
    "\n",
    "flip = cv.flip(rotated, -1) #flipcode - 0, 1 or -1; 0 - vertical flip (over the x axes), 1 - horizontal flip (over the y axes), -1 - both vertically and horizontally\n",
    "cv.imshow('flipped', flip)\n",
    "\n",
    "cv.waitKey(0)"
   ]
  },
  {
   "cell_type": "markdown",
   "metadata": {},
   "source": [
    "### Problem 6.\n",
    "\n",
    "Open the image pic3.jpg and display it with the name pic3. Find the edges of the image using\n",
    "Canny edge detector and then try to find its contours with parameters of your choice. Then\n",
    "convert the original image to grayscale and try to find the contours on a blurred version of the\n",
    "grayscale of the original image. Display the 2 results in separate windows to compare."
   ]
  },
  {
   "cell_type": "code",
   "execution_count": 2,
   "metadata": {},
   "outputs": [
    {
     "data": {
      "text/plain": [
       "-1"
      ]
     },
     "execution_count": 2,
     "metadata": {},
     "output_type": "execute_result"
    }
   ],
   "source": [
    "img = cv.imread('D:/ASDS/Python/Sem2 10/pic3.jpg') \n",
    "cv.imshow('pic3', img)\n",
    "\n",
    "# gray = cv.cvtColor(img, cv.COLOR_BGR2GRAY)\n",
    "canny = cv.Canny(img, 125, 175)\n",
    "contours, hierarchies = cv.findContours(canny, cv.RETR_LIST, cv.CHAIN_APPROX_SIMPLE)\n",
    "blank = np.zeros(img.shape, dtype = 'uint8')\n",
    "cv.drawContours(blank, contours, -1, (0, 0, 255), 1)\n",
    "cv.imshow('contours drawn (canny)', blank)\n",
    "\n",
    "\n",
    "gray = cv.cvtColor(img, cv.COLOR_BGR2GRAY)\n",
    "blur = cv.GaussianBlur(gray, (5, 5), cv.BORDER_DEFAULT)\n",
    "contours, hierarchies = cv.findContours(blur, cv.RETR_LIST, cv.CHAIN_APPROX_SIMPLE)\n",
    "blank = np.zeros(img.shape, dtype = 'uint8')\n",
    "cv.drawContours(blank, contours, -1, (0, 0, 255), 1) #image to draw over, contours list, contour index (-1 - all contours), color, thickness\n",
    "cv.imshow('contours drawn (blur)', blank)\n",
    "\n",
    "cv.waitKey(0)"
   ]
  }
 ],
 "metadata": {
  "kernelspec": {
   "display_name": "Python 3",
   "language": "python",
   "name": "python3"
  },
  "language_info": {
   "codemirror_mode": {
    "name": "ipython",
    "version": 3
   },
   "file_extension": ".py",
   "mimetype": "text/x-python",
   "name": "python",
   "nbconvert_exporter": "python",
   "pygments_lexer": "ipython3",
   "version": "3.8.3"
  }
 },
 "nbformat": 4,
 "nbformat_minor": 4
}
