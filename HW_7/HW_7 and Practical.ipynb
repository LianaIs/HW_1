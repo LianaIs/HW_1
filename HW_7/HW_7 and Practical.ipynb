{
 "cells": [
  {
   "cell_type": "markdown",
   "metadata": {},
   "source": [
    "## HW Problem 1\n",
    "Ստեղծեք Person class-ը.\n",
    "\n",
    "Attributes: name, last_name, age, gender, student (սա boolean attribute է՝ այսինքն\n",
    "ընդունում է True/False արժեքներ), ինչպես նաև private attribute password\n",
    "\n",
    "Methods:\n",
    "Greeting(self, second_person) - ստանում է Person տիպի object որպես input,\n",
    "տպում է “Welcome dear X.” ՝ որտեղ X-ը second_person-ի name-ն է։։\n",
    "Goodbye(self) - տպում է “Bye everyone!”\n",
    "Favourite_num(self, num1) - ստանում է integer տեսակի num1-ը որպես input և\n",
    "վերադարձնում է “My favourite number is num1” ՝օգտագործելով num1 attribute-ի\n",
    "արծեքը.\n",
    "Read_file(self, filename) - ստանում է String տիպի filename փոփոխականը ու\n",
    "փորձում է կարդալ այդ անունով ֆայլը՝ filename-ի վերջում ավելացնելով “.txt”\n",
    "(“filename.txt”). Կարդալու համար օգտագործեք open() ֆունկցիան։\n",
    "\n",
    "Ավելացրեք համապատասխան set ու get method-ներ password private attribute-ի\n",
    "համար։\n",
    "\n",
    "Ավելացրեք decorator, որը կստուգի թե ինչքան ժամանակ է խլում Greeting\n",
    "method-ն աշխատացնելը։"
   ]
  },
  {
   "cell_type": "code",
   "execution_count": 21,
   "metadata": {},
   "outputs": [],
   "source": [
    "import time\n",
    "\n",
    "class Person:\n",
    "    \n",
    "    #Constructor\n",
    "    def __init__(self, name, lname, age: int, gender, student: bool, password): #receives instance 'self' as argument\n",
    "        self.name = name\n",
    "        self.last_name = lname\n",
    "        self.age = age\n",
    "        self.gender = gender\n",
    "        self.student = student\n",
    "        self.__password = password\n",
    "    \n",
    "    def my_dec(func):  #my_dec(calc_square)\n",
    "        def wrapper(*args, **kwargs):  #wrapper(array)\n",
    "            start = time.time()\n",
    "            func(*args,**kwargs) \n",
    "            end = time.time()\n",
    "            print(func.__name__ +\" took \" + str((end-start)*1000) + \"mil sec\")\n",
    "        return wrapper\n",
    "    \n",
    "    @my_dec\n",
    "    def Greeting(self, second_person):\n",
    "        print(\"Welcome dear %s\" % second_person.name)\n",
    "        \n",
    "    def Goodbye(self):\n",
    "        print(\"Bye everyone!\")\n",
    "        \n",
    "    def Favourite_num(self, num1: int):\n",
    "        print(\"My favorite number is %d\" % num1)\n",
    "     \n",
    "    def Read_file(self, filename):\n",
    "        open(filename + \".txt\")\n",
    "        \n",
    "    def set_pass(self, new_pass):\n",
    "        self.__password = new_pass\n",
    "    \n",
    "    def get_pass(self):\n",
    "        return self.__password"
   ]
  },
  {
   "cell_type": "code",
   "execution_count": 22,
   "metadata": {},
   "outputs": [
    {
     "name": "stdout",
     "output_type": "stream",
     "text": [
      "Welcome dear Ann\n",
      "Greeting took 0.0mil sec\n"
     ]
    }
   ],
   "source": [
    "test = Person(\"Liana\", \"Isayan\", 26, \"F\", True, \"123456\")\n",
    "test2 = Person(\"Ann\", \"Yan\", 26, \"F\", True, \"14568\")\n",
    "test.Greeting(test2)"
   ]
  },
  {
   "cell_type": "markdown",
   "metadata": {},
   "source": [
    "## Practical - Task1\n",
    "\n",
    "Ստեղծեք Circle class-ը, որն ունի հետևյալ attribute-ները՝ radius և color։ Class-ի\n",
    "ներսում ստեղծեք getDesc(self) մեթոդը, որը կտպի “A color circle with radius\n",
    "radius.” ՝ օգտագործելով համապատասխան attribute-ների արժեքները։\n",
    "Փորձարկեք class-ի աշխատանքը ստեղծելով այդ class-ի object(ներ)։"
   ]
  },
  {
   "cell_type": "code",
   "execution_count": 10,
   "metadata": {},
   "outputs": [],
   "source": [
    "class Circle:\n",
    "    \n",
    "    #Constructor\n",
    "    def __init__(self, color, radius): #receives instance 'self' as argument\n",
    "        self.radius = radius\n",
    "        self.color = color\n",
    "    \n",
    "    def getDesc(self):\n",
    "        print(\"A %s circle with %s radius\" % (self.color, self.radius))"
   ]
  },
  {
   "cell_type": "code",
   "execution_count": 11,
   "metadata": {},
   "outputs": [
    {
     "name": "stdout",
     "output_type": "stream",
     "text": [
      "A red circle with 5 radius\n"
     ]
    }
   ],
   "source": [
    "test = Circle(\"red\", 5)\n",
    "test.getDesc()"
   ]
  },
  {
   "cell_type": "markdown",
   "metadata": {},
   "source": [
    "## Practical - Task2\n",
    "\n",
    "Ստեղծեք Car class-ը, որն ունի հետևյալ attribute-ները՝ model, color և max_speed։\n",
    "Ստեղծեք compareCar(self, car2) մեթոդը, որը ստանում է ևս մեկ Car տիպի object\n",
    "որպես argument ու կվերադարձնում է “car1 is better than car2” եթե ձեր մեքենայի\n",
    "maxSpeed attribute-ի արժեքը մեծ է car2-ի maxSpeed attribute-ի արժեքից և “car2 is\n",
    "better than car1”՝ հակառակ դեպքում։\n",
    "Փորձարկեք class-ի աշխատանքը ստեղծելով այդ class-ի object(ներ)։"
   ]
  },
  {
   "cell_type": "code",
   "execution_count": 13,
   "metadata": {},
   "outputs": [],
   "source": [
    "class Car:\n",
    "    \n",
    "    #Constructor\n",
    "    def __init__(self, model, color, max_speed): #receives instance 'self' as argument\n",
    "        self.model = model\n",
    "        self.color = color\n",
    "        self.max_speed = max_speed\n",
    "    \n",
    "    def compareCar(self, car2):\n",
    "        if self.max_speed > car2.max_speed:\n",
    "            print(\"car1 is better than car2\")\n",
    "        else:\n",
    "            print(\"car2 is better than car1\")"
   ]
  },
  {
   "cell_type": "code",
   "execution_count": 14,
   "metadata": {},
   "outputs": [],
   "source": [
    "car1 = Car(\"First\",\"red\",10)\n",
    "car2 = Car(\"Second\",\"blue\",15)"
   ]
  },
  {
   "cell_type": "code",
   "execution_count": 17,
   "metadata": {},
   "outputs": [
    {
     "name": "stdout",
     "output_type": "stream",
     "text": [
      "car2 is better than car1\n"
     ]
    }
   ],
   "source": [
    "car1.compareCar(car2)"
   ]
  }
 ],
 "metadata": {
  "kernelspec": {
   "display_name": "Python 3",
   "language": "python",
   "name": "python3"
  },
  "language_info": {
   "codemirror_mode": {
    "name": "ipython",
    "version": 3
   },
   "file_extension": ".py",
   "mimetype": "text/x-python",
   "name": "python",
   "nbconvert_exporter": "python",
   "pygments_lexer": "ipython3",
   "version": "3.8.3"
  }
 },
 "nbformat": 4,
 "nbformat_minor": 4
}
