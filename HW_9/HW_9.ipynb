{
 "cells": [
  {
   "cell_type": "markdown",
   "metadata": {},
   "source": [
    "## Problem 1\n",
    "\n",
    "Ստեղծեք div(x, y) ֆունկցիան, որն ընդունում է 2 attribute x ու y ու վերադարձնում է\n",
    "x/y: Ֆունկցիայի ներսում գրեք assert statement, որը ստուգում է թե արդյոք y-ը 0 չէ\n",
    "ու, պայմանի չբավարարման դեպքում, տալիս է error message “Can’t divide”."
   ]
  },
  {
   "cell_type": "code",
   "execution_count": 1,
   "metadata": {},
   "outputs": [],
   "source": [
    "def div(x,y):\n",
    "    assert y != 0,\"Can't devide\"\n",
    "    return x/y"
   ]
  },
  {
   "cell_type": "code",
   "execution_count": 3,
   "metadata": {},
   "outputs": [
    {
     "ename": "AssertionError",
     "evalue": "Can't devide",
     "output_type": "error",
     "traceback": [
      "\u001b[1;31m---------------------------------------------------------------------------\u001b[0m",
      "\u001b[1;31mAssertionError\u001b[0m                            Traceback (most recent call last)",
      "\u001b[1;32m<ipython-input-3-8cd7e0ced26e>\u001b[0m in \u001b[0;36m<module>\u001b[1;34m\u001b[0m\n\u001b[1;32m----> 1\u001b[1;33m \u001b[0mdiv\u001b[0m\u001b[1;33m(\u001b[0m\u001b[1;36m3\u001b[0m\u001b[1;33m,\u001b[0m\u001b[1;36m0\u001b[0m\u001b[1;33m)\u001b[0m\u001b[1;33m\u001b[0m\u001b[1;33m\u001b[0m\u001b[0m\n\u001b[0m",
      "\u001b[1;32m<ipython-input-1-16f09d4094cb>\u001b[0m in \u001b[0;36mdiv\u001b[1;34m(x, y)\u001b[0m\n\u001b[0;32m      1\u001b[0m \u001b[1;32mdef\u001b[0m \u001b[0mdiv\u001b[0m\u001b[1;33m(\u001b[0m\u001b[0mx\u001b[0m\u001b[1;33m,\u001b[0m\u001b[0my\u001b[0m\u001b[1;33m)\u001b[0m\u001b[1;33m:\u001b[0m\u001b[1;33m\u001b[0m\u001b[1;33m\u001b[0m\u001b[0m\n\u001b[1;32m----> 2\u001b[1;33m     \u001b[1;32massert\u001b[0m \u001b[0my\u001b[0m \u001b[1;33m!=\u001b[0m \u001b[1;36m0\u001b[0m\u001b[1;33m,\u001b[0m\u001b[1;34m\"Can't devide\"\u001b[0m\u001b[1;33m\u001b[0m\u001b[1;33m\u001b[0m\u001b[0m\n\u001b[0m\u001b[0;32m      3\u001b[0m     \u001b[1;32mreturn\u001b[0m \u001b[0mx\u001b[0m\u001b[1;33m/\u001b[0m\u001b[0my\u001b[0m\u001b[1;33m\u001b[0m\u001b[1;33m\u001b[0m\u001b[0m\n\u001b[0;32m      4\u001b[0m \u001b[1;33m\u001b[0m\u001b[0m\n",
      "\u001b[1;31mAssertionError\u001b[0m: Can't devide"
     ]
    }
   ],
   "source": [
    "div(3,0)"
   ]
  },
  {
   "cell_type": "markdown",
   "metadata": {},
   "source": [
    "## Problem 2\n",
    "\n",
    "Ստեղծեք ['a', 0, 2] list-ը։ Գրեք ծրագիր որը ցիկլով անցնում է list-ի արժեքների\n",
    "վրայով ու տպում արժեքներից յուրաքանչյուրի հակադարձը (1/x)։ Եթե կան դեպքեր,\n",
    "երբ արժեքը չի կարող հակադարձվել, դուք պետք է գրեք համապատասխան exception։\n",
    "\n",
    "Ծրագրի output-ը պետք է լինի հետևյալ ֆորմատի՝\n",
    "\n",
    "The entry is: the current entry of the list\n",
    "The reciprocal of the current entry of the list is the value of the reciprocal\n",
    "\n",
    "Կամ\n",
    "The entry is: the current entry of the list\n",
    "Oops! The exception that occured\n"
   ]
  },
  {
   "cell_type": "code",
   "execution_count": 4,
   "metadata": {},
   "outputs": [],
   "source": [
    "mylist = [\"a\", 0, 2]"
   ]
  },
  {
   "cell_type": "code",
   "execution_count": 23,
   "metadata": {},
   "outputs": [
    {
     "name": "stdout",
     "output_type": "stream",
     "text": [
      "Oops! not inversable\n",
      "Oops! not inversable\n",
      "The entry is: 0\n"
     ]
    }
   ],
   "source": [
    "for x in mylist:\n",
    "    try:\n",
    "        print(\"The entry is: %d\" %(1/x))\n",
    "    except Exception:\n",
    "        print(\"Oops! not inversable\")"
   ]
  },
  {
   "cell_type": "markdown",
   "metadata": {},
   "source": [
    "## Problem 3\n",
    "\n",
    "Ստեղծեք Person class-ը.\n",
    "\n",
    "Attributes: name, last_name, age, gender, student (սա boolean attribute է՝ այսինքն\n",
    "ընդունում է True/False արժեքներ), ինչպես նաև private attribute password\n",
    "\n",
    "Methods:\n",
    "Greeting(self, second_person) - ստանում է Person տիպի object որպես input,\n",
    "տպում է “Welcome dear X.” ՝ որտեղ X-ը second_person-ի name-ն է։։\n",
    "Goodbye(self) - տպում է “Bye everyone!”\n",
    "Favourite_num(self, num1) - ստանում է integer տեսակի num1-ը որպես input և\n",
    "վերադարձնում է “My favourite number is num1” ՝օգտագործելով num1 attribute-ի\n",
    "արծեքը.\n",
    "Read_file(self, filename) - ստանում է String տիպի filename փոփոխականը ու\n",
    "փորձում է կարդալ այդ անունով ֆայլը՝ filename-ի վերջում ավելացնելով “.txt”\n",
    "(“filename.txt”). Կարդալու համար օգտագործեք open() ֆունկցիան։\n",
    "\n",
    "Ձեր ստեղծած class-ին ավելացրեք exception-ներ (առնվազն 1 ընդհանուր ու 1\n",
    "կոնկրետ exception, որտեղ համարում եք, որ կա դրա կարիքը)։\n",
    "\n",
    "Ավելացրեք համապատասխան set ու get method-ներ password private attribute-ի\n",
    "համար։\n",
    "\n",
    "Optional: Ավելացրեք decorator, որը կստուգի թե ինչքան ժամանակ է խլում Greeting\n",
    "method-ն աշխատացնելը։"
   ]
  },
  {
   "cell_type": "code",
   "execution_count": 31,
   "metadata": {},
   "outputs": [],
   "source": [
    "import time"
   ]
  },
  {
   "cell_type": "code",
   "execution_count": 47,
   "metadata": {},
   "outputs": [],
   "source": [
    "class Person:\n",
    "    \n",
    "    #Constructor\n",
    "    def __init__(self, name, lname, age: int, gender, student: bool, password): #receives instance 'self' as argument\n",
    "        self.name = name\n",
    "        self.last_name = lname\n",
    "        self.age = age\n",
    "        self.gender = gender\n",
    "        self.student = student\n",
    "        self.__password = password\n",
    "    \n",
    "    def my_dec(func):  #my_dec(calc_square)\n",
    "        def wrapper(*args, **kwargs):  #wrapper(array)\n",
    "            start = time.time()\n",
    "            func(*args,**kwargs) \n",
    "            end = time.time()\n",
    "            print(func.__name__ +\" took \" + str((end-start)*1000) + \"mil sec\")\n",
    "        return wrapper\n",
    "    \n",
    "    @my_dec\n",
    "    def Greeting(self, second_person):\n",
    "        print(\"Welcome dear %s\" % second_person.name)\n",
    "        \n",
    "    def Goodbye(self):\n",
    "        print(\"Bye everyone!\")\n",
    "        \n",
    "    def Favourite_num(self, num1: int):\n",
    "        print(\"My favorite number is %d\" % num1)\n",
    "     \n",
    "    try:\n",
    "        def Read_file(self, filename):\n",
    "            f = open(filename + \".txt\")\n",
    "            if f.name == 'corrupt.txt':\n",
    "                raise Exception\n",
    "    except FileNotFoundError as e:\n",
    "        print(e)\n",
    "    except Exception as e:\n",
    "        print(e)\n",
    "        print(\"Error!\")\n",
    "            \n",
    "    try:\n",
    "        def set_pass(self, new_pass):\n",
    "            self.__password = new_pass\n",
    "    except TypeError:\n",
    "        print('Not a number')\n",
    "    \n",
    "    def get_pass(self):\n",
    "        return self.__password"
   ]
  },
  {
   "cell_type": "code",
   "execution_count": 48,
   "metadata": {},
   "outputs": [
    {
     "name": "stdout",
     "output_type": "stream",
     "text": [
      "Welcome dear Ann\n",
      "Greeting took 0.9973049163818359mil sec\n"
     ]
    }
   ],
   "source": [
    "test = Person(\"Liana\", \"Isayan\", 26, \"F\", True, \"123456\")\n",
    "test2 = Person(\"Ann\", \"Yan\", 26, \"F\", True, \"12457\")\n",
    "test.Greeting(test2)"
   ]
  },
  {
   "cell_type": "code",
   "execution_count": null,
   "metadata": {},
   "outputs": [],
   "source": []
  }
 ],
 "metadata": {
  "kernelspec": {
   "display_name": "Python 3",
   "language": "python",
   "name": "python3"
  },
  "language_info": {
   "codemirror_mode": {
    "name": "ipython",
    "version": 3
   },
   "file_extension": ".py",
   "mimetype": "text/x-python",
   "name": "python",
   "nbconvert_exporter": "python",
   "pygments_lexer": "ipython3",
   "version": "3.8.3"
  }
 },
 "nbformat": 4,
 "nbformat_minor": 4
}
