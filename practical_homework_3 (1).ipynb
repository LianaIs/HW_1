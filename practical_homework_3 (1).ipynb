{
 "cells": [
  {
   "cell_type": "markdown",
   "metadata": {},
   "source": [
    "## Problem 1\n",
    "\n",
    "```\n",
    "Use adapter pattern and classes of your choice. Create a structure where you have 1-2 adaptees that have a method that returns some text in spanish. Have an adapter which will have a method that translates the text to english. Have examples of the usage of your class structure.\n",
    "```"
   ]
  },
  {
   "cell_type": "code",
   "execution_count": null,
   "metadata": {},
   "outputs": [],
   "source": [
    "import abc\n",
    " \n",
    " \n",
    "class Target(metaclass=abc.ABCMeta):\n",
    "    \"\"\"\n",
    "    Define the domain-specific interface that Client uses.\n",
    "    \"\"\"\n",
    " \n",
    "    def __init__(self):\n",
    "        self.adaptee = Adaptee()\n",
    " \n",
    "    @abc.abstractmethod\n",
    "    def request(self):\n",
    "        pass\n",
    " \n",
    " \n",
    "class Adapter(Target):\n",
    "    \"\"\"\n",
    "    Adapt the interface of Adaptee to the Target interface.\n",
    "    \"\"\"\n",
    " \n",
    "    def request(self):\n",
    "        print(self.adaptee.specific_request()[::-1])\n",
    " \n",
    " \n",
    "class Adaptee:\n",
    "    \"\"\"\n",
    "    Define an existing interface that needs adapting.\n",
    "    \"\"\"\n",
    " \n",
    "    def specific_request(self):\n",
    "        return \"!olleH\"\n",
    " \n",
    " \n",
    "adapter = Adapter()\n",
    "adapter.request()"
   ]
  },
  {
   "cell_type": "markdown",
   "metadata": {},
   "source": [
    "## Problem 2 : bonus\n",
    "\n",
    "```\n",
    "Imagine that you have a video that you want to play. You have audioplayer (only able to play the audio without showing the video) and videoplayer (only able to display the video without sound). Create classes video (with attributes video, audio, adapter and player, as well as other attributes and methods of your choice), player interface, audioplayer and videoplayers of type player (these should have a method play which should play the media file in case it is in the right fomat and print some other message otherwise), adapters for modifying the media files according to the player used. Feel free to implement the logic however you imagine, using adapter design patter. Also have examples of the usage of your class structure. \n",
    "```"
   ]
  },
  {
   "cell_type": "code",
   "execution_count": null,
   "metadata": {},
   "outputs": [],
   "source": []
  },
  {
   "cell_type": "markdown",
   "metadata": {},
   "source": [
    "## Problem 3\n",
    "\n",
    "```\n",
    "Use singleton pattern and classes of your choice. Create a structure where you have some resource that has states busy and free and 3 users that try to use the resource and change the state to busy while they are using it. The resource should be singleton. Implement using 2 different methods for singleton implementation that we have discussed. \n",
    "```"
   ]
  },
  {
   "cell_type": "code",
   "execution_count": null,
   "metadata": {},
   "outputs": [],
   "source": [
    "# Borg\n",
    "class Borg:\n",
    "  \n",
    "    # state shared by each instance\n",
    "    __shared_state = dict()\n",
    "    \n",
    "    # constructor method\n",
    "    def __init__(self):\n",
    "  \n",
    "        self.__dict__ = self.__shared_state #stores class attributes\n",
    "        self.state = 'some state'\n",
    "\n",
    "  \n",
    "obj1 = Borg()    # object of class Borg\n",
    "obj2 = Borg()    # object of class Borg\n",
    "obj3 = Borg()    # object of class Borg\n",
    "\n",
    "print(obj1.state)   \n",
    "print(obj2.state)\n",
    "\n",
    "obj1.state = 'object1 state' # obj1 changed the state\n",
    "obj2.state = 'object2 state'     # obj2 changed the state\n",
    "\n",
    "print(obj1.state)    # output --> object2 state\n",
    "print(obj2.state)    # output --> object2 state\n",
    "\n",
    "obj3.state = 'object3 state'  # obj3 changed the\n",
    "                     # the shared state\n",
    "\n",
    "print(obj1.state)    # output --> Geeks\n",
    "print(obj2.state)    # output --> Geeks\n",
    "print(obj3.state)    # output --> Geeks"
   ]
  },
  {
   "cell_type": "code",
   "execution_count": null,
   "metadata": {},
   "outputs": [],
   "source": [
    "# Classic\n",
    "class DBConnection:\n",
    "  \n",
    "    __shared_instance = 'not connected'\n",
    "  \n",
    "    @staticmethod\n",
    "    def getInstance():\n",
    "  \n",
    "        \"\"\"Static Access Method\"\"\"\n",
    "        if DBConnection.__shared_instance == 'not connected':\n",
    "            DBConnection()\n",
    "        return DBConnection.__shared_instance\n",
    "  \n",
    "    def __init__(self):\n",
    "  \n",
    "        if DBConnection.__shared_instance != 'not connected':\n",
    "            raise Exception (\"This class is a singleton class !\")\n",
    "        else:\n",
    "            DBConnection.__shared_instance = self\n",
    "            \n",
    "    def connect(self):\n",
    "        print('Connection established!')\n",
    "        \n",
    "conn1 = DBConnection()\n",
    "conn1.connect()"
   ]
  }
 ],
 "metadata": {
  "kernelspec": {
   "display_name": "Python 3",
   "language": "python",
   "name": "python3"
  },
  "language_info": {
   "codemirror_mode": {
    "name": "ipython",
    "version": 3
   },
   "file_extension": ".py",
   "mimetype": "text/x-python",
   "name": "python",
   "nbconvert_exporter": "python",
   "pygments_lexer": "ipython3",
   "version": "3.8.3"
  }
 },
 "nbformat": 4,
 "nbformat_minor": 4
}
