{
 "cells": [
  {
   "cell_type": "markdown",
   "metadata": {},
   "source": [
    "## Problem 1\n",
    "\n",
    "Ստեղծեք Calculation class-ը:\n",
    "\n",
    "Attributes: x, y\n",
    "\n",
    "Methods: 1. __init__(self, x, y) -> ստեղծում է x ու y attribute-ները, 2. addition(self) -> տպում է x ու y արգումենտների արժեքների գումարը, 3. subtraction(self) -> տպում է x ու y արգումենտների արժեքների տարբերությունը\n",
    "\n",
    "Ստեղծեք MyCalculation class-ը, որը ժառանգում է Calculation class-ից:\n",
    "\n",
    "Attributes: x, y\n",
    "Methods: 1. __init__(self, x, y) -> կանչում է Calculation class-ի __init__ method-ը x ու y\n",
    "attribute-ներով, 2. multiplication(self) -> տպում է x ու y արգումենտների արժեքների արտադրյալը, 3. division(self) -> տպում է x ու y արգումենտների արժեքների քանորդը\n",
    "\n",
    "Ստեղծեք MyCalculation class-ի object 3 ու 5 attribute-ների արժեքներով ու կանչեք իր վրա\n",
    "addition, subtraction, multiplication ու division method-ները:"
   ]
  },
  {
   "cell_type": "code",
   "execution_count": 9,
   "metadata": {},
   "outputs": [],
   "source": [
    "class Calculation:\n",
    "    \n",
    "    #Constructor\n",
    "    def __init__(self, x, y): #receives instance 'self' as argument\n",
    "        self.x = x\n",
    "        self.y = y\n",
    "        \n",
    "    def addition(self):\n",
    "        print(self.x + self.y)\n",
    "\n",
    "    def substraction(self):\n",
    "        print(self.x - self.y)\n",
    "    \n",
    "class MyCalculation(Calculation): \n",
    "    \n",
    "    def __init__(self, x, y):\n",
    "        Calculation.__init__(self, x, y)      \n",
    "\n",
    "    def multiplication(self):\n",
    "        print(self.x * self.y) \n",
    "        \n",
    "    def division(self):\n",
    "        print(self.x / self.y)"
   ]
  },
  {
   "cell_type": "code",
   "execution_count": 11,
   "metadata": {},
   "outputs": [
    {
     "name": "stdout",
     "output_type": "stream",
     "text": [
      "8\n",
      "-2\n",
      "15\n",
      "0.6\n"
     ]
    }
   ],
   "source": [
    "test = MyCalculation(3,5)\n",
    "test.addition()\n",
    "test.substraction()\n",
    "test.multiplication()\n",
    "test.division()"
   ]
  },
  {
   "cell_type": "markdown",
   "metadata": {},
   "source": [
    "## Problem 2 \n",
    "\n",
    "Ստեղծեք My_Time class-ը:\n",
    "Attributes: t (str, ցույց է տալիս ժամանակ, օրինակ՝ “10 AM”)\n",
    "Methods: 1. __init__(self, t) -> ստեղծում է t attribute, 2. printTime(self) -> տպում է “The current time is X”, X-ի փոխարեն օգտագործելով t attribute-ի\n",
    "արժեքը\n",
    "\n",
    "Ստեղծեք My_Date class-ը:\n",
    "Attributes: d (str, ցույց է տալիս ամսաթիվ, օրինակ՝ “12.02.2018”)\n",
    "Methods: 1. __init__(self, color) -> ստեղծում է d attribute, 2. printDate(self) -> տպում է “The current date is Y”, Y-ի փոխարեն օգտագործելով d attribute-ի\n",
    "արժեքը\n",
    "\n",
    "Ստեղծեք Date_Time class-ը, որը ժառանգում է My_Date ու My_Time class-ներից:\n",
    "Attributes: d, t\n",
    "Methods: __init__(self, d, t) -> կանչում է My_Date class-ի __init__ method-ը d attribute-ով\n",
    "ու My_Time class-ի __init__ method-ը t attribute-ով\n",
    "\n",
    "Ստեղծեք Date-Time class-ի object “12 PM” ու “13.03.2013” attribute-ների արժեքներով ու\n",
    "կանչեք իր վրա printTime ու printDate method-ները:"
   ]
  },
  {
   "cell_type": "code",
   "execution_count": 12,
   "metadata": {},
   "outputs": [],
   "source": [
    "class My_Time:\n",
    "    \n",
    "    #Constructor\n",
    "    def __init__(self, t: str): #receives instance 'self' as argument\n",
    "        self.t = t\n",
    "        \n",
    "    def printTime(self):\n",
    "        print(\"The current time is %s\" % self.t)\n",
    "\n",
    "class My_Date:\n",
    "    \n",
    "    #Constructor\n",
    "    def __init__(self, d: str): #receives instance 'self' as argument\n",
    "        self.d = d\n",
    "        \n",
    "    def printDate(self):\n",
    "        print(\"The current date is %s\" % self.d)\n",
    "        \n",
    "class Date_Time(My_Time, My_Date):\n",
    "    \n",
    "    #Constructor\n",
    "    def __init__(self, t: str, d: str): #receives instance 'self' as argument\n",
    "        My_Time.__init__(self,t)\n",
    "        My_Date.__init__(self,d)"
   ]
  },
  {
   "cell_type": "code",
   "execution_count": 13,
   "metadata": {},
   "outputs": [
    {
     "name": "stdout",
     "output_type": "stream",
     "text": [
      "The current time is 12 PM\n",
      "The current date is 13.03.2013\n"
     ]
    }
   ],
   "source": [
    "test = Date_Time(\"12 PM\",\"13.03.2013\")\n",
    "test.printTime()\n",
    "test.printDate()"
   ]
  }
 ],
 "metadata": {
  "kernelspec": {
   "display_name": "Python 3",
   "language": "python",
   "name": "python3"
  },
  "language_info": {
   "codemirror_mode": {
    "name": "ipython",
    "version": 3
   },
   "file_extension": ".py",
   "mimetype": "text/x-python",
   "name": "python",
   "nbconvert_exporter": "python",
   "pygments_lexer": "ipython3",
   "version": "3.8.3"
  }
 },
 "nbformat": 4,
 "nbformat_minor": 4
}
